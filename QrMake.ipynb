[
  {
    "cell_type": "code",
    "metadata": {},
    "source": [
      "!pip install qrcode[pil]"
    ],
    "outputs": [],
    "execution_count": null
  },
  {
    "cell_type": "code",
    "metadata": {},
    "source": [
      "import qrcode\n",
      "from pathlib import Path\n",
      "\n",
      "# Let user input any text\n",
      "text = input('اكتب النص الذي تريد تحويله إلى QR code: ')\n",
      "\n",
      "try:\n",
      "    img = qrcode.make(text)\n",
      "    output_path = Path.cwd() / \"QRcode_1.jpg\"\n",
      "    img.save(output_path)\n",
      "    print(f\"QR code saved as {output_path}\")\n",
      "except Exception as e:\n",
      "    print(f\"An error occurred: {e}\")"
    ],
    "outputs": [],
    "execution_count": null
  }
]
