[
  {
    "cell_type": "code",
    "metadata": {},
    "source": [
      "!pip install qrcode"
    ],
    "outputs": [],
    "execution_count": null
  },
  {
    "cell_type": "code",
    "metadata": {},
    "source": [
      "import qrcode\n",
      "img = qrcode.make('اللي عايز تكتبه')\n",
      "type(img)  # qrcode.image.pil.PilImage\n",
      "img.save(\"/content/QRcode_1.jpg\")"
    ],
    "outputs": [],
    "execution_count": null
  }
]
